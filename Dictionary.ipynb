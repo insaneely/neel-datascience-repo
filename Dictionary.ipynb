{
 "cells": [
  {
   "cell_type": "code",
   "execution_count": 1,
   "id": "721e9b5e-ea96-4984-8dcb-bb5f40e6f447",
   "metadata": {},
   "outputs": [],
   "source": [
    "d = {}"
   ]
  },
  {
   "cell_type": "code",
   "execution_count": 2,
   "id": "136a252e-3fe7-4720-bb13-88c55a8e6aab",
   "metadata": {},
   "outputs": [
    {
     "data": {
      "text/plain": [
       "dict"
      ]
     },
     "execution_count": 2,
     "metadata": {},
     "output_type": "execute_result"
    }
   ],
   "source": [
    "type(d)"
   ]
  },
  {
   "cell_type": "code",
   "execution_count": 3,
   "id": "f2857849-01c4-40ef-b581-0aaf0cc1922a",
   "metadata": {},
   "outputs": [],
   "source": [
    "d1 = {'key ' : \"neel\"}"
   ]
  },
  {
   "cell_type": "code",
   "execution_count": 4,
   "id": "d5ac0c90-a1f4-482a-afa5-10943e4c6df1",
   "metadata": {},
   "outputs": [
    {
     "data": {
      "text/plain": [
       "{'key ': 'neel'}"
      ]
     },
     "execution_count": 4,
     "metadata": {},
     "output_type": "execute_result"
    }
   ],
   "source": [
    "d1"
   ]
  },
  {
   "cell_type": "code",
   "execution_count": 8,
   "id": "8b89b24d-74f5-41b8-a060-26a356ab8e16",
   "metadata": {},
   "outputs": [],
   "source": [
    "d2 = {'name' : \"mehta\", 'email' : \"neel@gmail.com\", 'number' : 525255}"
   ]
  },
  {
   "cell_type": "markdown",
   "id": "9bea84ca-df1a-46b9-8646-d438e14de359",
   "metadata": {
    "jp-MarkdownHeadingCollapsed": true,
    "tags": []
   },
   "source": [
    "d2"
   ]
  },
  {
   "cell_type": "code",
   "execution_count": 9,
   "id": "4b4ce419-2833-405d-bb12-f666ab4c5df9",
   "metadata": {},
   "outputs": [
    {
     "data": {
      "text/plain": [
       "{'name': 'mehta', 'email': 'neel@gmail.com', 'number': 525255}"
      ]
     },
     "execution_count": 9,
     "metadata": {},
     "output_type": "execute_result"
    }
   ],
   "source": [
    "d2"
   ]
  },
  {
   "cell_type": "code",
   "execution_count": 14,
   "id": "ade8a91a-8634-493f-979d-a6c51d67cd72",
   "metadata": {},
   "outputs": [],
   "source": [
    "d3 = {234 : \"kdfnksdnf\", True : \"fsdnfdsfsd\"}"
   ]
  },
  {
   "cell_type": "code",
   "execution_count": 15,
   "id": "933f50c0-ac31-49b6-b173-c14f7c90df6a",
   "metadata": {},
   "outputs": [
    {
     "data": {
      "text/plain": [
       "{234: 'kdfnksdnf', True: 'fsdnfdsfsd'}"
      ]
     },
     "execution_count": 15,
     "metadata": {},
     "output_type": "execute_result"
    }
   ],
   "source": [
    "d3"
   ]
  },
  {
   "cell_type": "code",
   "execution_count": 20,
   "id": "b9967ac3-7289-4648-8d1e-0d3f3485af64",
   "metadata": {},
   "outputs": [
    {
     "data": {
      "text/plain": [
       "'kdfnksdnf'"
      ]
     },
     "execution_count": 20,
     "metadata": {},
     "output_type": "execute_result"
    }
   ],
   "source": [
    "d3[234]"
   ]
  },
  {
   "cell_type": "code",
   "execution_count": 21,
   "id": "8bec6d98-82fa-4be2-b51c-953323830287",
   "metadata": {},
   "outputs": [
    {
     "data": {
      "text/plain": [
       "'fsdnfdsfsd'"
      ]
     },
     "execution_count": 21,
     "metadata": {},
     "output_type": "execute_result"
    }
   ],
   "source": [
    "d3[1]"
   ]
  },
  {
   "cell_type": "code",
   "execution_count": 5,
   "id": "c6789fac-f8e7-497b-95fc-445c66d76480",
   "metadata": {},
   "outputs": [],
   "source": [
    "d4 = {'name':\"sudh\" , \"name\": \"neel\"}"
   ]
  },
  {
   "cell_type": "code",
   "execution_count": 7,
   "id": "4f91606f-d529-4dfd-8f87-68b607c3ef0e",
   "metadata": {},
   "outputs": [
    {
     "data": {
      "text/plain": [
       "'neel'"
      ]
     },
     "execution_count": 7,
     "metadata": {},
     "output_type": "execute_result"
    }
   ],
   "source": [
    "d4['name']"
   ]
  },
  {
   "cell_type": "code",
   "execution_count": 8,
   "id": "60e40c41-b010-4531-87da-89874c1ae190",
   "metadata": {},
   "outputs": [],
   "source": [
    "d5 = {\"company\" : \"pwskills\" , \"course\" : [\"web dev\", \"data science\", \"dsa\"]}"
   ]
  },
  {
   "cell_type": "code",
   "execution_count": 9,
   "id": "657101dc-da02-43a4-b623-70ce4cdb08a9",
   "metadata": {},
   "outputs": [
    {
     "data": {
      "text/plain": [
       "{'company': 'pwskills', 'course': ['web dev', 'data science', 'dsa']}"
      ]
     },
     "execution_count": 9,
     "metadata": {},
     "output_type": "execute_result"
    }
   ],
   "source": [
    "d5"
   ]
  },
  {
   "cell_type": "code",
   "execution_count": 12,
   "id": "455ce12d-8216-49c4-98d6-d91a007c6cad",
   "metadata": {},
   "outputs": [
    {
     "data": {
      "text/plain": [
       "'dsa'"
      ]
     },
     "execution_count": 12,
     "metadata": {},
     "output_type": "execute_result"
    }
   ],
   "source": [
    "d5['course'][2]"
   ]
  },
  {
   "cell_type": "code",
   "execution_count": 4,
   "id": "d3a7a8e0-1ffb-45a9-8ff2-cfd468000d1e",
   "metadata": {},
   "outputs": [],
   "source": [
    "d6 = {\"number\" : [29,30,23,34], 'assignment' : (2,34,45,54,5), 'lauch date' :{14,23,28}, 'class_time' : {'web dev' : 8 , ' data science' : 9, 'dsa' : 10}}"
   ]
  },
  {
   "cell_type": "code",
   "execution_count": 5,
   "id": "0641e90a-d71a-45d4-a0b4-c83dc53897cd",
   "metadata": {},
   "outputs": [
    {
     "data": {
      "text/plain": [
       "{'number': [29, 30, 23, 34],\n",
       " 'assignment': (2, 34, 45, 54, 5),\n",
       " 'lauch date': {14, 23, 28},\n",
       " 'class_time': {'web dev': 8, ' data science': 9, 'dsa': 10}}"
      ]
     },
     "execution_count": 5,
     "metadata": {},
     "output_type": "execute_result"
    }
   ],
   "source": [
    "d6"
   ]
  },
  {
   "cell_type": "code",
   "execution_count": 22,
   "id": "cc6f7054-dc5b-4823-87f4-0fd81e082570",
   "metadata": {},
   "outputs": [
    {
     "data": {
      "text/plain": [
       "10"
      ]
     },
     "execution_count": 22,
     "metadata": {},
     "output_type": "execute_result"
    }
   ],
   "source": [
    "d6[\"class_time\"]['dsa']"
   ]
  },
  {
   "cell_type": "code",
   "execution_count": 23,
   "id": "39983cbc-9a6f-43f3-a4d6-9907cef29f45",
   "metadata": {},
   "outputs": [],
   "source": [
    "d6['mentor'] = [ \"sudhansu\", \"krish\", \"anurag\"]"
   ]
  },
  {
   "cell_type": "code",
   "execution_count": 6,
   "id": "de4f7d6f-09ff-4dc0-be1a-ec23d526ee9c",
   "metadata": {},
   "outputs": [
    {
     "data": {
      "text/plain": [
       "{'number': [29, 30, 23, 34],\n",
       " 'assignment': (2, 34, 45, 54, 5),\n",
       " 'lauch date': {14, 23, 28},\n",
       " 'class_time': {'web dev': 8, ' data science': 9, 'dsa': 10}}"
      ]
     },
     "execution_count": 6,
     "metadata": {},
     "output_type": "execute_result"
    }
   ],
   "source": [
    "d6"
   ]
  },
  {
   "cell_type": "code",
   "execution_count": 25,
   "id": "54e30a71-f6f3-4287-8aec-15ba20b1ec69",
   "metadata": {},
   "outputs": [],
   "source": [
    "del d6['number']"
   ]
  },
  {
   "cell_type": "code",
   "execution_count": 7,
   "id": "9e8eb6f8-36aa-4213-815f-938d5cc654a1",
   "metadata": {},
   "outputs": [
    {
     "data": {
      "text/plain": [
       "{'number': [29, 30, 23, 34],\n",
       " 'assignment': (2, 34, 45, 54, 5),\n",
       " 'lauch date': {14, 23, 28},\n",
       " 'class_time': {'web dev': 8, ' data science': 9, 'dsa': 10}}"
      ]
     },
     "execution_count": 7,
     "metadata": {},
     "output_type": "execute_result"
    }
   ],
   "source": [
    "d6"
   ]
  },
  {
   "cell_type": "code",
   "execution_count": 8,
   "id": "08c557a4-05ff-4f1a-980d-48aaea9ebf20",
   "metadata": {},
   "outputs": [
    {
     "data": {
      "text/plain": [
       "['number', 'assignment', 'lauch date', 'class_time']"
      ]
     },
     "execution_count": 8,
     "metadata": {},
     "output_type": "execute_result"
    }
   ],
   "source": [
    "list(d6.keys())"
   ]
  },
  {
   "cell_type": "code",
   "execution_count": null,
   "id": "0004fc1a-40ae-4e6a-9e9c-d75b3f09ec27",
   "metadata": {},
   "outputs": [],
   "source": [
    "list"
   ]
  },
  {
   "cell_type": "code",
   "execution_count": 10,
   "id": "28dd713c-4d54-4b93-b907-ddfd7d62651d",
   "metadata": {},
   "outputs": [
    {
     "data": {
      "text/plain": [
       "[[29, 30, 23, 34],\n",
       " (2, 34, 45, 54, 5),\n",
       " {14, 23, 28},\n",
       " {'web dev': 8, ' data science': 9, 'dsa': 10}]"
      ]
     },
     "execution_count": 10,
     "metadata": {},
     "output_type": "execute_result"
    }
   ],
   "source": [
    "list(d6.values())"
   ]
  },
  {
   "cell_type": "code",
   "execution_count": 12,
   "id": "66d428e3-69ad-42fb-92b4-9222a9a0c365",
   "metadata": {},
   "outputs": [
    {
     "data": {
      "text/plain": [
       "[('number', [29, 30, 23, 34]),\n",
       " ('assignment', (2, 34, 45, 54, 5)),\n",
       " ('lauch date', {14, 23, 28}),\n",
       " ('class_time', {'web dev': 8, ' data science': 9, 'dsa': 10})]"
      ]
     },
     "execution_count": 12,
     "metadata": {},
     "output_type": "execute_result"
    }
   ],
   "source": [
    "list(d6.items())"
   ]
  }
 ],
 "metadata": {
  "kernelspec": {
   "display_name": "Python 3 (ipykernel)",
   "language": "python",
   "name": "python3"
  },
  "language_info": {
   "codemirror_mode": {
    "name": "ipython",
    "version": 3
   },
   "file_extension": ".py",
   "mimetype": "text/x-python",
   "name": "python",
   "nbconvert_exporter": "python",
   "pygments_lexer": "ipython3",
   "version": "3.10.8"
  }
 },
 "nbformat": 4,
 "nbformat_minor": 5
}
